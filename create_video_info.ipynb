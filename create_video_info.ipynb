{
 "cells": [
  {
   "cell_type": "code",
   "execution_count": 1,
   "metadata": {},
   "outputs": [],
   "source": [
    "import pandas as pd\n",
    "from langchain_community.document_loaders import YoutubeLoader\n",
    "\n",
    "max_videos= 5\n",
    "\n",
    "\n",
    "\n",
    "def extract_video_info(url, dataframe, index):\n",
    "    loader = YoutubeLoader.from_youtube_url(\n",
    "        url,\n",
    "        add_video_info=True,\n",
    "        language=[\"en\"],\n",
    "        translation=\"en\",\n",
    "    )\n",
    "    video = loader.load()[0]\n",
    "    transcript = video.page_content\n",
    "\n",
    "    dataframe.loc[index, \"transcript\"] = transcript\n",
    "    dataframe.loc[index, \"thumbnail_url\"] = video.metadata[\"thumbnail_url\"]\n",
    "    dataframe.loc[index, \"title\"] = video.metadata[\"title\"]\n",
    "    dataframe.loc[index, \"view_count\"] = video.metadata[\"view_count\"]\n",
    "    # dataframe.loc[index, \"length\"] = video.metadata[\"length\"]\n",
    "    # dataframe.loc[index, \"publish_date\"] = video.metadata[\"publish_date\"]\n",
    "    # dataframe.loc[index, \"author\"] = video.metadata[\"author\"]\n",
    "\n",
    "    return dataframe\n"
   ]
  },
  {
   "cell_type": "code",
   "execution_count": null,
   "metadata": {},
   "outputs": [],
   "source": [
    "df_tubular = pd.read_csv(\"tubular_beauty.csv\")\n",
    "            \n",
    "dataframe = df_tubular.copy()\n",
    "\n",
    "counter = 0\n",
    "for index, row in df_tubular.iterrows():\n",
    "    if counter >= max_videos:\n",
    "        break\n",
    "\n",
    "\n",
    "    url = row[\"Video_URL\"]\n",
    "    \n",
    "\n",
    "    try:\n",
    "        dataframe = extract_video_info(url, dataframe, index)\n",
    "        dataframe.to_csv(\"video_info_beauty.csv\")\n",
    "\n",
    "        counter += 1\n",
    "\n",
    "    except Exception as e:\n",
    "        print(f\"Error loading video: {e}\")\n",
    "        continue\n"
   ]
  },
  {
   "cell_type": "code",
   "execution_count": null,
   "metadata": {},
   "outputs": [],
   "source": []
  }
 ],
 "metadata": {
  "kernelspec": {
   "display_name": "snack-demo-venv",
   "language": "python",
   "name": "python3"
  },
  "language_info": {
   "codemirror_mode": {
    "name": "ipython",
    "version": 3
   },
   "file_extension": ".py",
   "mimetype": "text/x-python",
   "name": "python",
   "nbconvert_exporter": "python",
   "pygments_lexer": "ipython3",
   "version": "3.11.6"
  }
 },
 "nbformat": 4,
 "nbformat_minor": 2
}
